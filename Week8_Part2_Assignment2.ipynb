{
 "cells": [
  {
   "cell_type": "markdown",
   "id": "5e028942",
   "metadata": {},
   "source": [
    "## Part 2: A short data story / micro-project\n",
    "\n",
    "> *Exercise*: Create a short data-story based on the work we've done in class so far. (This exercise is a kind of \"micro version\" of what we'll be doing in the final project). Follow the directions in the bulleted list below when you create your data-story.\n",
    "\n",
    "* **Find your own story to tell in the work on analyzing the SF Crime Data that we've done so far** (Week 1 - Week 6). The idea is to choose an insight about crime in SF (perhaps how something changed over the years) and communicate that insight to a general audience reader.\n",
    "* The web-page should be hosted on your GitHub Pages site (Week 7).\n",
    "* The format must be the classic *Magazine Genre* presented on a single web-page (see the Segel \\& Heer paper for details).\n",
    "* The story should have a brief introduction to the dataset so new readers from outside the class can understand what's going on.\n",
    "* Your story should include three visualizations. Not more than three, not less than three (but multi-panel figures are OK). The figures should be one of each of the following types\n",
    "  - One time-series / bar chart (it's OK to use the \"fancy\" plot-typs like calendar plots or polar bar-charts from Week 2, Part 4).\n",
    "  - One map (use techniques from Week 3 and 4)\n",
    "  - One interactive visualization in Bokeh (Week 6)\n",
    "* **At a minimum, the Bokeh visualization should contain different data** than the exercise we did for Week 6 (it's a plus if it's a new type of viz altogether). \n",
    "* The two other visualization may be repetitions of figures created during the previous lectures, or they may be new.\n",
    "* Make the figures nice. Specifically:\n",
    "  - Aim to make the figures visually consistent (color, fonts, etc)\n",
    "  - Follow the recommendations from my video on nice figures (Week 2, part 3)\n",
    "* In terms of the amount of text, I envision something like 500-1500 words (including figure captions). <font color=\"gray\">Try to write in your own words - the LLMs have a tendency to write a lot of text and not be so precise. So if the writing is all elegantly written but empty prose, we will be critical. It is OK, however, to have the LLM help you get the grammer, etc. right.</font>\n",
    "* It is a plus if you can back up some of your findings with external sources, such as news stories from the area, looking up which building is located at some set of `lat,lon` coordinates, or similar. (So when you see something happening at some time/place in the data, see if you can understand it more deeply by investigating outside the dataset.) Use real references at the end of the text to organize your links to the outside world."
   ]
  },
  {
   "cell_type": "code",
   "execution_count": 6,
   "id": "2555fbf8",
   "metadata": {},
   "outputs": [],
   "source": [
    "import pandas as pd\n",
    "import matplotlib.pyplot as plt \n",
    "import numpy as np\n",
    "\n",
    "#First read in the csv file \n",
    "data = pd.read_csv(\"Police_Department.csv\")\n",
    "\n",
    "data['Date'] = pd.to_datetime(data['Date'])\n",
    "data['Time'] = pd.to_datetime(data[\"Time\"], format= '%H:%M')\n",
    "\n",
    "focuscrimes = set(['WEAPON LAWS', 'PROSTITUTION', 'DRIVING UNDER THE INFLUENCE', 'ROBBERY', 'BURGLARY', 'ASSAULT', 'DRUNKENNESS', 'DRUG/NARCOTIC', 'TRESPASS', 'LARCENY/THEFT', 'VANDALISM', 'VEHICLE THEFT', 'STOLEN PROPERTY', 'DISORDERLY CONDUCT'])\n",
    "\n",
    "#Extract the Category Column from the dataset and create a plot for each element in Focus Crime array\n",
    "focuscrimes_elems = data.loc[data[\"Category\"].isin(focuscrimes)]"
   ]
  },
  {
   "cell_type": "code",
   "execution_count": 7,
   "id": "f580802e",
   "metadata": {},
   "outputs": [
    {
     "data": {
      "text/html": [
       "<div>\n",
       "<style scoped>\n",
       "    .dataframe tbody tr th:only-of-type {\n",
       "        vertical-align: middle;\n",
       "    }\n",
       "\n",
       "    .dataframe tbody tr th {\n",
       "        vertical-align: top;\n",
       "    }\n",
       "\n",
       "    .dataframe thead th {\n",
       "        text-align: right;\n",
       "    }\n",
       "</style>\n",
       "<table border=\"1\" class=\"dataframe\">\n",
       "  <thead>\n",
       "    <tr style=\"text-align: right;\">\n",
       "      <th></th>\n",
       "      <th>PdId</th>\n",
       "      <th>IncidntNum</th>\n",
       "      <th>Incident Code</th>\n",
       "      <th>Category</th>\n",
       "      <th>Descript</th>\n",
       "      <th>DayOfWeek</th>\n",
       "      <th>Date</th>\n",
       "      <th>Time</th>\n",
       "      <th>PdDistrict</th>\n",
       "      <th>Resolution</th>\n",
       "      <th>...</th>\n",
       "      <th>Fix It Zones as of 2017-11-06  2 2</th>\n",
       "      <th>DELETE - HSOC Zones 2 2</th>\n",
       "      <th>Fix It Zones as of 2018-02-07 2 2</th>\n",
       "      <th>CBD, BID and GBD Boundaries as of 2017 2 2</th>\n",
       "      <th>Areas of Vulnerability, 2016 2 2</th>\n",
       "      <th>Central Market/Tenderloin Boundary 2 2</th>\n",
       "      <th>Central Market/Tenderloin Boundary Polygon - Updated 2 2</th>\n",
       "      <th>HSOC Zones as of 2018-06-05 2 2</th>\n",
       "      <th>OWED Public Spaces 2 2</th>\n",
       "      <th>Neighborhoods 2</th>\n",
       "    </tr>\n",
       "  </thead>\n",
       "  <tbody>\n",
       "    <tr>\n",
       "      <th>18</th>\n",
       "      <td>3071603916100</td>\n",
       "      <td>30716039</td>\n",
       "      <td>16100</td>\n",
       "      <td>DRUG/NARCOTIC</td>\n",
       "      <td>POSSESSION OF HEROIN</td>\n",
       "      <td>Thursday</td>\n",
       "      <td>2003-06-12</td>\n",
       "      <td>1900-01-01 20:25:00</td>\n",
       "      <td>INGLESIDE</td>\n",
       "      <td>ARREST, BOOKED</td>\n",
       "      <td>...</td>\n",
       "      <td>NaN</td>\n",
       "      <td>NaN</td>\n",
       "      <td>NaN</td>\n",
       "      <td>NaN</td>\n",
       "      <td>2.0</td>\n",
       "      <td>NaN</td>\n",
       "      <td>NaN</td>\n",
       "      <td>NaN</td>\n",
       "      <td>NaN</td>\n",
       "      <td>80.0</td>\n",
       "    </tr>\n",
       "    <tr>\n",
       "      <th>31</th>\n",
       "      <td>6000732516650</td>\n",
       "      <td>60007325</td>\n",
       "      <td>16650</td>\n",
       "      <td>DRUG/NARCOTIC</td>\n",
       "      <td>POSSESSION OF METH-AMPHETAMINE</td>\n",
       "      <td>Tuesday</td>\n",
       "      <td>2006-01-03</td>\n",
       "      <td>1900-01-01 01:15:00</td>\n",
       "      <td>TENDERLOIN</td>\n",
       "      <td>ARREST, BOOKED</td>\n",
       "      <td>...</td>\n",
       "      <td>18.0</td>\n",
       "      <td>NaN</td>\n",
       "      <td>18.0</td>\n",
       "      <td>6.0</td>\n",
       "      <td>2.0</td>\n",
       "      <td>1.0</td>\n",
       "      <td>1.0</td>\n",
       "      <td>NaN</td>\n",
       "      <td>NaN</td>\n",
       "      <td>20.0</td>\n",
       "    </tr>\n",
       "    <tr>\n",
       "      <th>37</th>\n",
       "      <td>3146788116710</td>\n",
       "      <td>31467881</td>\n",
       "      <td>16710</td>\n",
       "      <td>DRUG/NARCOTIC</td>\n",
       "      <td>POSSESSION OF NARCOTICS PARAPHERNALIA</td>\n",
       "      <td>Thursday</td>\n",
       "      <td>2003-12-18</td>\n",
       "      <td>1900-01-01 00:01:00</td>\n",
       "      <td>TENDERLOIN</td>\n",
       "      <td>ARREST, BOOKED</td>\n",
       "      <td>...</td>\n",
       "      <td>NaN</td>\n",
       "      <td>NaN</td>\n",
       "      <td>NaN</td>\n",
       "      <td>6.0</td>\n",
       "      <td>2.0</td>\n",
       "      <td>1.0</td>\n",
       "      <td>1.0</td>\n",
       "      <td>NaN</td>\n",
       "      <td>NaN</td>\n",
       "      <td>20.0</td>\n",
       "    </tr>\n",
       "    <tr>\n",
       "      <th>80</th>\n",
       "      <td>3061826916710</td>\n",
       "      <td>30618269</td>\n",
       "      <td>16710</td>\n",
       "      <td>DRUG/NARCOTIC</td>\n",
       "      <td>POSSESSION OF NARCOTICS PARAPHERNALIA</td>\n",
       "      <td>Wednesday</td>\n",
       "      <td>2003-05-21</td>\n",
       "      <td>1900-01-01 09:20:00</td>\n",
       "      <td>SOUTHERN</td>\n",
       "      <td>ARREST, BOOKED</td>\n",
       "      <td>...</td>\n",
       "      <td>3.0</td>\n",
       "      <td>1.0</td>\n",
       "      <td>3.0</td>\n",
       "      <td>7.0</td>\n",
       "      <td>2.0</td>\n",
       "      <td>1.0</td>\n",
       "      <td>1.0</td>\n",
       "      <td>1.0</td>\n",
       "      <td>35.0</td>\n",
       "      <td>32.0</td>\n",
       "    </tr>\n",
       "    <tr>\n",
       "      <th>167</th>\n",
       "      <td>6010311116020</td>\n",
       "      <td>60103111</td>\n",
       "      <td>16020</td>\n",
       "      <td>DRUG/NARCOTIC</td>\n",
       "      <td>PLANTING/CULTIVATING MARIJUANA</td>\n",
       "      <td>Friday</td>\n",
       "      <td>2006-01-27</td>\n",
       "      <td>1900-01-01 11:59:00</td>\n",
       "      <td>RICHMOND</td>\n",
       "      <td>NONE</td>\n",
       "      <td>...</td>\n",
       "      <td>NaN</td>\n",
       "      <td>NaN</td>\n",
       "      <td>NaN</td>\n",
       "      <td>NaN</td>\n",
       "      <td>2.0</td>\n",
       "      <td>NaN</td>\n",
       "      <td>NaN</td>\n",
       "      <td>NaN</td>\n",
       "      <td>NaN</td>\n",
       "      <td>103.0</td>\n",
       "    </tr>\n",
       "    <tr>\n",
       "      <th>...</th>\n",
       "      <td>...</td>\n",
       "      <td>...</td>\n",
       "      <td>...</td>\n",
       "      <td>...</td>\n",
       "      <td>...</td>\n",
       "      <td>...</td>\n",
       "      <td>...</td>\n",
       "      <td>...</td>\n",
       "      <td>...</td>\n",
       "      <td>...</td>\n",
       "      <td>...</td>\n",
       "      <td>...</td>\n",
       "      <td>...</td>\n",
       "      <td>...</td>\n",
       "      <td>...</td>\n",
       "      <td>...</td>\n",
       "      <td>...</td>\n",
       "      <td>...</td>\n",
       "      <td>...</td>\n",
       "      <td>...</td>\n",
       "      <td>...</td>\n",
       "    </tr>\n",
       "    <tr>\n",
       "      <th>2129328</th>\n",
       "      <td>17084842116704</td>\n",
       "      <td>170848421</td>\n",
       "      <td>16704</td>\n",
       "      <td>DRUG/NARCOTIC</td>\n",
       "      <td>LOITERING WHERE NARCOTICS ARE SOLD/USED</td>\n",
       "      <td>Tuesday</td>\n",
       "      <td>2017-10-17</td>\n",
       "      <td>1900-01-01 02:00:00</td>\n",
       "      <td>NORTHERN</td>\n",
       "      <td>ARREST, BOOKED</td>\n",
       "      <td>...</td>\n",
       "      <td>NaN</td>\n",
       "      <td>NaN</td>\n",
       "      <td>NaN</td>\n",
       "      <td>NaN</td>\n",
       "      <td>2.0</td>\n",
       "      <td>1.0</td>\n",
       "      <td>1.0</td>\n",
       "      <td>NaN</td>\n",
       "      <td>NaN</td>\n",
       "      <td>20.0</td>\n",
       "    </tr>\n",
       "    <tr>\n",
       "      <th>2129398</th>\n",
       "      <td>17098433216030</td>\n",
       "      <td>170984332</td>\n",
       "      <td>16030</td>\n",
       "      <td>DRUG/NARCOTIC</td>\n",
       "      <td>POSSESSION OF MARIJUANA FOR SALES</td>\n",
       "      <td>Tuesday</td>\n",
       "      <td>2017-12-05</td>\n",
       "      <td>1900-01-01 11:23:00</td>\n",
       "      <td>NORTHERN</td>\n",
       "      <td>ARREST, BOOKED</td>\n",
       "      <td>...</td>\n",
       "      <td>NaN</td>\n",
       "      <td>NaN</td>\n",
       "      <td>NaN</td>\n",
       "      <td>NaN</td>\n",
       "      <td>1.0</td>\n",
       "      <td>NaN</td>\n",
       "      <td>NaN</td>\n",
       "      <td>NaN</td>\n",
       "      <td>NaN</td>\n",
       "      <td>15.0</td>\n",
       "    </tr>\n",
       "    <tr>\n",
       "      <th>2129476</th>\n",
       "      <td>17087629016710</td>\n",
       "      <td>170876290</td>\n",
       "      <td>16710</td>\n",
       "      <td>DRUG/NARCOTIC</td>\n",
       "      <td>POSSESSION OF NARCOTICS PARAPHERNALIA</td>\n",
       "      <td>Thursday</td>\n",
       "      <td>2017-10-26</td>\n",
       "      <td>1900-01-01 16:24:00</td>\n",
       "      <td>SOUTHERN</td>\n",
       "      <td>ARREST, BOOKED</td>\n",
       "      <td>...</td>\n",
       "      <td>NaN</td>\n",
       "      <td>NaN</td>\n",
       "      <td>NaN</td>\n",
       "      <td>5.0</td>\n",
       "      <td>2.0</td>\n",
       "      <td>NaN</td>\n",
       "      <td>NaN</td>\n",
       "      <td>NaN</td>\n",
       "      <td>35.0</td>\n",
       "      <td>19.0</td>\n",
       "    </tr>\n",
       "    <tr>\n",
       "      <th>2129517</th>\n",
       "      <td>16026805516710</td>\n",
       "      <td>160268055</td>\n",
       "      <td>16710</td>\n",
       "      <td>DRUG/NARCOTIC</td>\n",
       "      <td>POSSESSION OF NARCOTICS PARAPHERNALIA</td>\n",
       "      <td>Friday</td>\n",
       "      <td>2016-04-01</td>\n",
       "      <td>1900-01-01 10:36:00</td>\n",
       "      <td>NORTHERN</td>\n",
       "      <td>ARREST, BOOKED</td>\n",
       "      <td>...</td>\n",
       "      <td>NaN</td>\n",
       "      <td>NaN</td>\n",
       "      <td>NaN</td>\n",
       "      <td>10.0</td>\n",
       "      <td>2.0</td>\n",
       "      <td>NaN</td>\n",
       "      <td>NaN</td>\n",
       "      <td>NaN</td>\n",
       "      <td>NaN</td>\n",
       "      <td>50.0</td>\n",
       "    </tr>\n",
       "    <tr>\n",
       "      <th>2129520</th>\n",
       "      <td>17050730416710</td>\n",
       "      <td>170507304</td>\n",
       "      <td>16710</td>\n",
       "      <td>DRUG/NARCOTIC</td>\n",
       "      <td>POSSESSION OF NARCOTICS PARAPHERNALIA</td>\n",
       "      <td>Thursday</td>\n",
       "      <td>2017-06-22</td>\n",
       "      <td>1900-01-01 01:42:00</td>\n",
       "      <td>CENTRAL</td>\n",
       "      <td>ARREST, CITED</td>\n",
       "      <td>...</td>\n",
       "      <td>NaN</td>\n",
       "      <td>NaN</td>\n",
       "      <td>NaN</td>\n",
       "      <td>NaN</td>\n",
       "      <td>1.0</td>\n",
       "      <td>NaN</td>\n",
       "      <td>NaN</td>\n",
       "      <td>NaN</td>\n",
       "      <td>NaN</td>\n",
       "      <td>77.0</td>\n",
       "    </tr>\n",
       "  </tbody>\n",
       "</table>\n",
       "<p>116352 rows × 35 columns</p>\n",
       "</div>"
      ],
      "text/plain": [
       "                   PdId  IncidntNum  Incident Code       Category  \\\n",
       "18        3071603916100    30716039          16100  DRUG/NARCOTIC   \n",
       "31        6000732516650    60007325          16650  DRUG/NARCOTIC   \n",
       "37        3146788116710    31467881          16710  DRUG/NARCOTIC   \n",
       "80        3061826916710    30618269          16710  DRUG/NARCOTIC   \n",
       "167       6010311116020    60103111          16020  DRUG/NARCOTIC   \n",
       "...                 ...         ...            ...            ...   \n",
       "2129328  17084842116704   170848421          16704  DRUG/NARCOTIC   \n",
       "2129398  17098433216030   170984332          16030  DRUG/NARCOTIC   \n",
       "2129476  17087629016710   170876290          16710  DRUG/NARCOTIC   \n",
       "2129517  16026805516710   160268055          16710  DRUG/NARCOTIC   \n",
       "2129520  17050730416710   170507304          16710  DRUG/NARCOTIC   \n",
       "\n",
       "                                        Descript  DayOfWeek       Date  \\\n",
       "18                          POSSESSION OF HEROIN   Thursday 2003-06-12   \n",
       "31                POSSESSION OF METH-AMPHETAMINE    Tuesday 2006-01-03   \n",
       "37         POSSESSION OF NARCOTICS PARAPHERNALIA   Thursday 2003-12-18   \n",
       "80         POSSESSION OF NARCOTICS PARAPHERNALIA  Wednesday 2003-05-21   \n",
       "167               PLANTING/CULTIVATING MARIJUANA     Friday 2006-01-27   \n",
       "...                                          ...        ...        ...   \n",
       "2129328  LOITERING WHERE NARCOTICS ARE SOLD/USED    Tuesday 2017-10-17   \n",
       "2129398        POSSESSION OF MARIJUANA FOR SALES    Tuesday 2017-12-05   \n",
       "2129476    POSSESSION OF NARCOTICS PARAPHERNALIA   Thursday 2017-10-26   \n",
       "2129517    POSSESSION OF NARCOTICS PARAPHERNALIA     Friday 2016-04-01   \n",
       "2129520    POSSESSION OF NARCOTICS PARAPHERNALIA   Thursday 2017-06-22   \n",
       "\n",
       "                       Time  PdDistrict      Resolution  ...  \\\n",
       "18      1900-01-01 20:25:00   INGLESIDE  ARREST, BOOKED  ...   \n",
       "31      1900-01-01 01:15:00  TENDERLOIN  ARREST, BOOKED  ...   \n",
       "37      1900-01-01 00:01:00  TENDERLOIN  ARREST, BOOKED  ...   \n",
       "80      1900-01-01 09:20:00    SOUTHERN  ARREST, BOOKED  ...   \n",
       "167     1900-01-01 11:59:00    RICHMOND            NONE  ...   \n",
       "...                     ...         ...             ...  ...   \n",
       "2129328 1900-01-01 02:00:00    NORTHERN  ARREST, BOOKED  ...   \n",
       "2129398 1900-01-01 11:23:00    NORTHERN  ARREST, BOOKED  ...   \n",
       "2129476 1900-01-01 16:24:00    SOUTHERN  ARREST, BOOKED  ...   \n",
       "2129517 1900-01-01 10:36:00    NORTHERN  ARREST, BOOKED  ...   \n",
       "2129520 1900-01-01 01:42:00     CENTRAL   ARREST, CITED  ...   \n",
       "\n",
       "        Fix It Zones as of 2017-11-06  2 2  DELETE - HSOC Zones 2 2  \\\n",
       "18                                     NaN                      NaN   \n",
       "31                                    18.0                      NaN   \n",
       "37                                     NaN                      NaN   \n",
       "80                                     3.0                      1.0   \n",
       "167                                    NaN                      NaN   \n",
       "...                                    ...                      ...   \n",
       "2129328                                NaN                      NaN   \n",
       "2129398                                NaN                      NaN   \n",
       "2129476                                NaN                      NaN   \n",
       "2129517                                NaN                      NaN   \n",
       "2129520                                NaN                      NaN   \n",
       "\n",
       "         Fix It Zones as of 2018-02-07 2 2  \\\n",
       "18                                     NaN   \n",
       "31                                    18.0   \n",
       "37                                     NaN   \n",
       "80                                     3.0   \n",
       "167                                    NaN   \n",
       "...                                    ...   \n",
       "2129328                                NaN   \n",
       "2129398                                NaN   \n",
       "2129476                                NaN   \n",
       "2129517                                NaN   \n",
       "2129520                                NaN   \n",
       "\n",
       "        CBD, BID and GBD Boundaries as of 2017 2 2  \\\n",
       "18                                             NaN   \n",
       "31                                             6.0   \n",
       "37                                             6.0   \n",
       "80                                             7.0   \n",
       "167                                            NaN   \n",
       "...                                            ...   \n",
       "2129328                                        NaN   \n",
       "2129398                                        NaN   \n",
       "2129476                                        5.0   \n",
       "2129517                                       10.0   \n",
       "2129520                                        NaN   \n",
       "\n",
       "         Areas of Vulnerability, 2016 2 2  \\\n",
       "18                                    2.0   \n",
       "31                                    2.0   \n",
       "37                                    2.0   \n",
       "80                                    2.0   \n",
       "167                                   2.0   \n",
       "...                                   ...   \n",
       "2129328                               2.0   \n",
       "2129398                               1.0   \n",
       "2129476                               2.0   \n",
       "2129517                               2.0   \n",
       "2129520                               1.0   \n",
       "\n",
       "         Central Market/Tenderloin Boundary 2 2  \\\n",
       "18                                          NaN   \n",
       "31                                          1.0   \n",
       "37                                          1.0   \n",
       "80                                          1.0   \n",
       "167                                         NaN   \n",
       "...                                         ...   \n",
       "2129328                                     1.0   \n",
       "2129398                                     NaN   \n",
       "2129476                                     NaN   \n",
       "2129517                                     NaN   \n",
       "2129520                                     NaN   \n",
       "\n",
       "         Central Market/Tenderloin Boundary Polygon - Updated 2 2  \\\n",
       "18                                                     NaN          \n",
       "31                                                     1.0          \n",
       "37                                                     1.0          \n",
       "80                                                     1.0          \n",
       "167                                                    NaN          \n",
       "...                                                    ...          \n",
       "2129328                                                1.0          \n",
       "2129398                                                NaN          \n",
       "2129476                                                NaN          \n",
       "2129517                                                NaN          \n",
       "2129520                                                NaN          \n",
       "\n",
       "         HSOC Zones as of 2018-06-05 2 2  OWED Public Spaces 2 2  \\\n",
       "18                                   NaN                     NaN   \n",
       "31                                   NaN                     NaN   \n",
       "37                                   NaN                     NaN   \n",
       "80                                   1.0                    35.0   \n",
       "167                                  NaN                     NaN   \n",
       "...                                  ...                     ...   \n",
       "2129328                              NaN                     NaN   \n",
       "2129398                              NaN                     NaN   \n",
       "2129476                              NaN                    35.0   \n",
       "2129517                              NaN                     NaN   \n",
       "2129520                              NaN                     NaN   \n",
       "\n",
       "         Neighborhoods 2  \n",
       "18                  80.0  \n",
       "31                  20.0  \n",
       "37                  20.0  \n",
       "80                  32.0  \n",
       "167                103.0  \n",
       "...                  ...  \n",
       "2129328             20.0  \n",
       "2129398             15.0  \n",
       "2129476             19.0  \n",
       "2129517             50.0  \n",
       "2129520             77.0  \n",
       "\n",
       "[116352 rows x 35 columns]"
      ]
     },
     "execution_count": 7,
     "metadata": {},
     "output_type": "execute_result"
    }
   ],
   "source": [
    "#Filter dataset for DRUG/NARCOTIC\n",
    "data = data[(data['Date'].dt.year >=2003) & (data['Date'].dt.year <= 2017)]\n",
    "data_narco = data[data['Category'] == 'DRUG/NARCOTIC']\n",
    "data_narco"
   ]
  },
  {
   "cell_type": "code",
   "execution_count": 8,
   "id": "11b79183",
   "metadata": {},
   "outputs": [
    {
     "data": {
      "text/html": [
       "<div>\n",
       "<style scoped>\n",
       "    .dataframe tbody tr th:only-of-type {\n",
       "        vertical-align: middle;\n",
       "    }\n",
       "\n",
       "    .dataframe tbody tr th {\n",
       "        vertical-align: top;\n",
       "    }\n",
       "\n",
       "    .dataframe thead th {\n",
       "        text-align: right;\n",
       "    }\n",
       "</style>\n",
       "<table border=\"1\" class=\"dataframe\">\n",
       "  <thead>\n",
       "    <tr style=\"text-align: right;\">\n",
       "      <th></th>\n",
       "      <th>Year</th>\n",
       "      <th>Crime Count</th>\n",
       "    </tr>\n",
       "    <tr>\n",
       "      <th>Date</th>\n",
       "      <th></th>\n",
       "      <th></th>\n",
       "    </tr>\n",
       "  </thead>\n",
       "  <tbody>\n",
       "    <tr>\n",
       "      <th>2003</th>\n",
       "      <td>2003</td>\n",
       "      <td>9784</td>\n",
       "    </tr>\n",
       "    <tr>\n",
       "      <th>2004</th>\n",
       "      <td>2004</td>\n",
       "      <td>9792</td>\n",
       "    </tr>\n",
       "    <tr>\n",
       "      <th>2005</th>\n",
       "      <td>2005</td>\n",
       "      <td>8444</td>\n",
       "    </tr>\n",
       "    <tr>\n",
       "      <th>2006</th>\n",
       "      <td>2006</td>\n",
       "      <td>8943</td>\n",
       "    </tr>\n",
       "    <tr>\n",
       "      <th>2007</th>\n",
       "      <td>2007</td>\n",
       "      <td>10360</td>\n",
       "    </tr>\n",
       "    <tr>\n",
       "      <th>2008</th>\n",
       "      <td>2008</td>\n",
       "      <td>11456</td>\n",
       "    </tr>\n",
       "    <tr>\n",
       "      <th>2009</th>\n",
       "      <td>2009</td>\n",
       "      <td>11771</td>\n",
       "    </tr>\n",
       "    <tr>\n",
       "      <th>2010</th>\n",
       "      <td>2010</td>\n",
       "      <td>9036</td>\n",
       "    </tr>\n",
       "    <tr>\n",
       "      <th>2011</th>\n",
       "      <td>2011</td>\n",
       "      <td>6802</td>\n",
       "    </tr>\n",
       "    <tr>\n",
       "      <th>2012</th>\n",
       "      <td>2012</td>\n",
       "      <td>6307</td>\n",
       "    </tr>\n",
       "    <tr>\n",
       "      <th>2013</th>\n",
       "      <td>2013</td>\n",
       "      <td>6672</td>\n",
       "    </tr>\n",
       "    <tr>\n",
       "      <th>2014</th>\n",
       "      <td>2014</td>\n",
       "      <td>5324</td>\n",
       "    </tr>\n",
       "    <tr>\n",
       "      <th>2015</th>\n",
       "      <td>2015</td>\n",
       "      <td>4194</td>\n",
       "    </tr>\n",
       "    <tr>\n",
       "      <th>2016</th>\n",
       "      <td>2016</td>\n",
       "      <td>4202</td>\n",
       "    </tr>\n",
       "    <tr>\n",
       "      <th>2017</th>\n",
       "      <td>2017</td>\n",
       "      <td>3265</td>\n",
       "    </tr>\n",
       "  </tbody>\n",
       "</table>\n",
       "</div>"
      ],
      "text/plain": [
       "      Year  Crime Count\n",
       "Date                   \n",
       "2003  2003         9784\n",
       "2004  2004         9792\n",
       "2005  2005         8444\n",
       "2006  2006         8943\n",
       "2007  2007        10360\n",
       "2008  2008        11456\n",
       "2009  2009        11771\n",
       "2010  2010         9036\n",
       "2011  2011         6802\n",
       "2012  2012         6307\n",
       "2013  2013         6672\n",
       "2014  2014         5324\n",
       "2015  2015         4194\n",
       "2016  2016         4202\n",
       "2017  2017         3265"
      ]
     },
     "execution_count": 8,
     "metadata": {},
     "output_type": "execute_result"
    }
   ],
   "source": [
    "new_data = data_narco.loc[:, ['Category', 'Date']]\n",
    "grouped = new_data.groupby(new_data.Date.dt.year)['Date'].count()\n",
    "grouped = grouped.to_frame()\n",
    "\n",
    "x = grouped.index\n",
    "y = grouped.iloc[:,0]\n",
    "\n",
    "df = pd.DataFrame(data={\n",
    "    'Year': x,\n",
    "    'Crime Count': y\n",
    "})\n",
    "\n",
    "df"
   ]
  },
  {
   "cell_type": "code",
   "execution_count": 14,
   "id": "66594fec",
   "metadata": {},
   "outputs": [
    {
     "data": {
      "text/plain": [
       "Index([2003, 2004, 2005, 2006, 2007, 2008, 2009, 2010, 2011, 2012, 2013, 2014,\n",
       "       2015, 2016, 2017],\n",
       "      dtype='int32', name='Date')"
      ]
     },
     "execution_count": 14,
     "metadata": {},
     "output_type": "execute_result"
    }
   ],
   "source": [
    "textBased = x.astype(str)\n",
    "x"
   ]
  },
  {
   "cell_type": "code",
   "execution_count": 15,
   "id": "e039990f",
   "metadata": {},
   "outputs": [
    {
     "data": {
      "application/vnd.plotly.v1+json": {
       "config": {
        "plotlyServerURL": "https://plot.ly"
       },
       "data": [
        {
         "alignmentgroup": "True",
         "hovertemplate": "Year=%{x}<br>Crime count=%{y}<extra></extra>",
         "legendgroup": "",
         "marker": {
          "color": "#636efa",
          "pattern": {
           "shape": ""
          }
         },
         "name": "",
         "offsetgroup": "",
         "orientation": "v",
         "showlegend": false,
         "textposition": "auto",
         "type": "bar",
         "x": [
          2003,
          2004,
          2005,
          2006,
          2007,
          2008,
          2009,
          2010,
          2011,
          2012,
          2013,
          2014,
          2015,
          2016,
          2017
         ],
         "xaxis": "x",
         "y": [
          9784,
          9792,
          8444,
          8943,
          10360,
          11456,
          11771,
          9036,
          6802,
          6307,
          6672,
          5324,
          4194,
          4202,
          3265
         ],
         "yaxis": "y"
        }
       ],
       "layout": {
        "barmode": "relative",
        "legend": {
         "tracegroupgap": 0
        },
        "showlegend": false,
        "template": {
         "data": {
          "bar": [
           {
            "error_x": {
             "color": "#2a3f5f"
            },
            "error_y": {
             "color": "#2a3f5f"
            },
            "marker": {
             "line": {
              "color": "#E5ECF6",
              "width": 0.5
             },
             "pattern": {
              "fillmode": "overlay",
              "size": 10,
              "solidity": 0.2
             }
            },
            "type": "bar"
           }
          ],
          "barpolar": [
           {
            "marker": {
             "line": {
              "color": "#E5ECF6",
              "width": 0.5
             },
             "pattern": {
              "fillmode": "overlay",
              "size": 10,
              "solidity": 0.2
             }
            },
            "type": "barpolar"
           }
          ],
          "carpet": [
           {
            "aaxis": {
             "endlinecolor": "#2a3f5f",
             "gridcolor": "white",
             "linecolor": "white",
             "minorgridcolor": "white",
             "startlinecolor": "#2a3f5f"
            },
            "baxis": {
             "endlinecolor": "#2a3f5f",
             "gridcolor": "white",
             "linecolor": "white",
             "minorgridcolor": "white",
             "startlinecolor": "#2a3f5f"
            },
            "type": "carpet"
           }
          ],
          "choropleth": [
           {
            "colorbar": {
             "outlinewidth": 0,
             "ticks": ""
            },
            "type": "choropleth"
           }
          ],
          "contour": [
           {
            "colorbar": {
             "outlinewidth": 0,
             "ticks": ""
            },
            "colorscale": [
             [
              0,
              "#0d0887"
             ],
             [
              0.1111111111111111,
              "#46039f"
             ],
             [
              0.2222222222222222,
              "#7201a8"
             ],
             [
              0.3333333333333333,
              "#9c179e"
             ],
             [
              0.4444444444444444,
              "#bd3786"
             ],
             [
              0.5555555555555556,
              "#d8576b"
             ],
             [
              0.6666666666666666,
              "#ed7953"
             ],
             [
              0.7777777777777778,
              "#fb9f3a"
             ],
             [
              0.8888888888888888,
              "#fdca26"
             ],
             [
              1,
              "#f0f921"
             ]
            ],
            "type": "contour"
           }
          ],
          "contourcarpet": [
           {
            "colorbar": {
             "outlinewidth": 0,
             "ticks": ""
            },
            "type": "contourcarpet"
           }
          ],
          "heatmap": [
           {
            "colorbar": {
             "outlinewidth": 0,
             "ticks": ""
            },
            "colorscale": [
             [
              0,
              "#0d0887"
             ],
             [
              0.1111111111111111,
              "#46039f"
             ],
             [
              0.2222222222222222,
              "#7201a8"
             ],
             [
              0.3333333333333333,
              "#9c179e"
             ],
             [
              0.4444444444444444,
              "#bd3786"
             ],
             [
              0.5555555555555556,
              "#d8576b"
             ],
             [
              0.6666666666666666,
              "#ed7953"
             ],
             [
              0.7777777777777778,
              "#fb9f3a"
             ],
             [
              0.8888888888888888,
              "#fdca26"
             ],
             [
              1,
              "#f0f921"
             ]
            ],
            "type": "heatmap"
           }
          ],
          "heatmapgl": [
           {
            "colorbar": {
             "outlinewidth": 0,
             "ticks": ""
            },
            "colorscale": [
             [
              0,
              "#0d0887"
             ],
             [
              0.1111111111111111,
              "#46039f"
             ],
             [
              0.2222222222222222,
              "#7201a8"
             ],
             [
              0.3333333333333333,
              "#9c179e"
             ],
             [
              0.4444444444444444,
              "#bd3786"
             ],
             [
              0.5555555555555556,
              "#d8576b"
             ],
             [
              0.6666666666666666,
              "#ed7953"
             ],
             [
              0.7777777777777778,
              "#fb9f3a"
             ],
             [
              0.8888888888888888,
              "#fdca26"
             ],
             [
              1,
              "#f0f921"
             ]
            ],
            "type": "heatmapgl"
           }
          ],
          "histogram": [
           {
            "marker": {
             "pattern": {
              "fillmode": "overlay",
              "size": 10,
              "solidity": 0.2
             }
            },
            "type": "histogram"
           }
          ],
          "histogram2d": [
           {
            "colorbar": {
             "outlinewidth": 0,
             "ticks": ""
            },
            "colorscale": [
             [
              0,
              "#0d0887"
             ],
             [
              0.1111111111111111,
              "#46039f"
             ],
             [
              0.2222222222222222,
              "#7201a8"
             ],
             [
              0.3333333333333333,
              "#9c179e"
             ],
             [
              0.4444444444444444,
              "#bd3786"
             ],
             [
              0.5555555555555556,
              "#d8576b"
             ],
             [
              0.6666666666666666,
              "#ed7953"
             ],
             [
              0.7777777777777778,
              "#fb9f3a"
             ],
             [
              0.8888888888888888,
              "#fdca26"
             ],
             [
              1,
              "#f0f921"
             ]
            ],
            "type": "histogram2d"
           }
          ],
          "histogram2dcontour": [
           {
            "colorbar": {
             "outlinewidth": 0,
             "ticks": ""
            },
            "colorscale": [
             [
              0,
              "#0d0887"
             ],
             [
              0.1111111111111111,
              "#46039f"
             ],
             [
              0.2222222222222222,
              "#7201a8"
             ],
             [
              0.3333333333333333,
              "#9c179e"
             ],
             [
              0.4444444444444444,
              "#bd3786"
             ],
             [
              0.5555555555555556,
              "#d8576b"
             ],
             [
              0.6666666666666666,
              "#ed7953"
             ],
             [
              0.7777777777777778,
              "#fb9f3a"
             ],
             [
              0.8888888888888888,
              "#fdca26"
             ],
             [
              1,
              "#f0f921"
             ]
            ],
            "type": "histogram2dcontour"
           }
          ],
          "mesh3d": [
           {
            "colorbar": {
             "outlinewidth": 0,
             "ticks": ""
            },
            "type": "mesh3d"
           }
          ],
          "parcoords": [
           {
            "line": {
             "colorbar": {
              "outlinewidth": 0,
              "ticks": ""
             }
            },
            "type": "parcoords"
           }
          ],
          "pie": [
           {
            "automargin": true,
            "type": "pie"
           }
          ],
          "scatter": [
           {
            "fillpattern": {
             "fillmode": "overlay",
             "size": 10,
             "solidity": 0.2
            },
            "type": "scatter"
           }
          ],
          "scatter3d": [
           {
            "line": {
             "colorbar": {
              "outlinewidth": 0,
              "ticks": ""
             }
            },
            "marker": {
             "colorbar": {
              "outlinewidth": 0,
              "ticks": ""
             }
            },
            "type": "scatter3d"
           }
          ],
          "scattercarpet": [
           {
            "marker": {
             "colorbar": {
              "outlinewidth": 0,
              "ticks": ""
             }
            },
            "type": "scattercarpet"
           }
          ],
          "scattergeo": [
           {
            "marker": {
             "colorbar": {
              "outlinewidth": 0,
              "ticks": ""
             }
            },
            "type": "scattergeo"
           }
          ],
          "scattergl": [
           {
            "marker": {
             "colorbar": {
              "outlinewidth": 0,
              "ticks": ""
             }
            },
            "type": "scattergl"
           }
          ],
          "scattermapbox": [
           {
            "marker": {
             "colorbar": {
              "outlinewidth": 0,
              "ticks": ""
             }
            },
            "type": "scattermapbox"
           }
          ],
          "scatterpolar": [
           {
            "marker": {
             "colorbar": {
              "outlinewidth": 0,
              "ticks": ""
             }
            },
            "type": "scatterpolar"
           }
          ],
          "scatterpolargl": [
           {
            "marker": {
             "colorbar": {
              "outlinewidth": 0,
              "ticks": ""
             }
            },
            "type": "scatterpolargl"
           }
          ],
          "scatterternary": [
           {
            "marker": {
             "colorbar": {
              "outlinewidth": 0,
              "ticks": ""
             }
            },
            "type": "scatterternary"
           }
          ],
          "surface": [
           {
            "colorbar": {
             "outlinewidth": 0,
             "ticks": ""
            },
            "colorscale": [
             [
              0,
              "#0d0887"
             ],
             [
              0.1111111111111111,
              "#46039f"
             ],
             [
              0.2222222222222222,
              "#7201a8"
             ],
             [
              0.3333333333333333,
              "#9c179e"
             ],
             [
              0.4444444444444444,
              "#bd3786"
             ],
             [
              0.5555555555555556,
              "#d8576b"
             ],
             [
              0.6666666666666666,
              "#ed7953"
             ],
             [
              0.7777777777777778,
              "#fb9f3a"
             ],
             [
              0.8888888888888888,
              "#fdca26"
             ],
             [
              1,
              "#f0f921"
             ]
            ],
            "type": "surface"
           }
          ],
          "table": [
           {
            "cells": {
             "fill": {
              "color": "#EBF0F8"
             },
             "line": {
              "color": "white"
             }
            },
            "header": {
             "fill": {
              "color": "#C8D4E3"
             },
             "line": {
              "color": "white"
             }
            },
            "type": "table"
           }
          ]
         },
         "layout": {
          "annotationdefaults": {
           "arrowcolor": "#2a3f5f",
           "arrowhead": 0,
           "arrowwidth": 1
          },
          "autotypenumbers": "strict",
          "coloraxis": {
           "colorbar": {
            "outlinewidth": 0,
            "ticks": ""
           }
          },
          "colorscale": {
           "diverging": [
            [
             0,
             "#8e0152"
            ],
            [
             0.1,
             "#c51b7d"
            ],
            [
             0.2,
             "#de77ae"
            ],
            [
             0.3,
             "#f1b6da"
            ],
            [
             0.4,
             "#fde0ef"
            ],
            [
             0.5,
             "#f7f7f7"
            ],
            [
             0.6,
             "#e6f5d0"
            ],
            [
             0.7,
             "#b8e186"
            ],
            [
             0.8,
             "#7fbc41"
            ],
            [
             0.9,
             "#4d9221"
            ],
            [
             1,
             "#276419"
            ]
           ],
           "sequential": [
            [
             0,
             "#0d0887"
            ],
            [
             0.1111111111111111,
             "#46039f"
            ],
            [
             0.2222222222222222,
             "#7201a8"
            ],
            [
             0.3333333333333333,
             "#9c179e"
            ],
            [
             0.4444444444444444,
             "#bd3786"
            ],
            [
             0.5555555555555556,
             "#d8576b"
            ],
            [
             0.6666666666666666,
             "#ed7953"
            ],
            [
             0.7777777777777778,
             "#fb9f3a"
            ],
            [
             0.8888888888888888,
             "#fdca26"
            ],
            [
             1,
             "#f0f921"
            ]
           ],
           "sequentialminus": [
            [
             0,
             "#0d0887"
            ],
            [
             0.1111111111111111,
             "#46039f"
            ],
            [
             0.2222222222222222,
             "#7201a8"
            ],
            [
             0.3333333333333333,
             "#9c179e"
            ],
            [
             0.4444444444444444,
             "#bd3786"
            ],
            [
             0.5555555555555556,
             "#d8576b"
            ],
            [
             0.6666666666666666,
             "#ed7953"
            ],
            [
             0.7777777777777778,
             "#fb9f3a"
            ],
            [
             0.8888888888888888,
             "#fdca26"
            ],
            [
             1,
             "#f0f921"
            ]
           ]
          },
          "colorway": [
           "#636efa",
           "#EF553B",
           "#00cc96",
           "#ab63fa",
           "#FFA15A",
           "#19d3f3",
           "#FF6692",
           "#B6E880",
           "#FF97FF",
           "#FECB52"
          ],
          "font": {
           "color": "#2a3f5f"
          },
          "geo": {
           "bgcolor": "white",
           "lakecolor": "white",
           "landcolor": "#E5ECF6",
           "showlakes": true,
           "showland": true,
           "subunitcolor": "white"
          },
          "hoverlabel": {
           "align": "left"
          },
          "hovermode": "closest",
          "mapbox": {
           "style": "light"
          },
          "paper_bgcolor": "white",
          "plot_bgcolor": "#E5ECF6",
          "polar": {
           "angularaxis": {
            "gridcolor": "white",
            "linecolor": "white",
            "ticks": ""
           },
           "bgcolor": "#E5ECF6",
           "radialaxis": {
            "gridcolor": "white",
            "linecolor": "white",
            "ticks": ""
           }
          },
          "scene": {
           "xaxis": {
            "backgroundcolor": "#E5ECF6",
            "gridcolor": "white",
            "gridwidth": 2,
            "linecolor": "white",
            "showbackground": true,
            "ticks": "",
            "zerolinecolor": "white"
           },
           "yaxis": {
            "backgroundcolor": "#E5ECF6",
            "gridcolor": "white",
            "gridwidth": 2,
            "linecolor": "white",
            "showbackground": true,
            "ticks": "",
            "zerolinecolor": "white"
           },
           "zaxis": {
            "backgroundcolor": "#E5ECF6",
            "gridcolor": "white",
            "gridwidth": 2,
            "linecolor": "white",
            "showbackground": true,
            "ticks": "",
            "zerolinecolor": "white"
           }
          },
          "shapedefaults": {
           "line": {
            "color": "#2a3f5f"
           }
          },
          "ternary": {
           "aaxis": {
            "gridcolor": "white",
            "linecolor": "white",
            "ticks": ""
           },
           "baxis": {
            "gridcolor": "white",
            "linecolor": "white",
            "ticks": ""
           },
           "bgcolor": "#E5ECF6",
           "caxis": {
            "gridcolor": "white",
            "linecolor": "white",
            "ticks": ""
           }
          },
          "title": {
           "x": 0.05
          },
          "xaxis": {
           "automargin": true,
           "gridcolor": "white",
           "linecolor": "white",
           "ticks": "",
           "title": {
            "standoff": 15
           },
           "zerolinecolor": "white",
           "zerolinewidth": 2
          },
          "yaxis": {
           "automargin": true,
           "gridcolor": "white",
           "linecolor": "white",
           "ticks": "",
           "title": {
            "standoff": 15
           },
           "zerolinecolor": "white",
           "zerolinewidth": 2
          }
         }
        },
        "title": {
         "text": "Bar plot of DRUG/NARCOTIC related crimes per year"
        },
        "xaxis": {
         "anchor": "y",
         "domain": [
          0,
          1
         ],
         "tickmode": "array",
         "ticktext": [
          "2003",
          "2004",
          "2005",
          "2006",
          "2007",
          "2008",
          "2009",
          "2010",
          "2011",
          "2012",
          "2013",
          "2014",
          "2015",
          "2016",
          "2017"
         ],
         "tickvals": [
          2003,
          2004,
          2005,
          2006,
          2007,
          2008,
          2009,
          2010,
          2011,
          2012,
          2013,
          2014,
          2015,
          2016,
          2017
         ],
         "title": {
          "text": "Year"
         }
        },
        "yaxis": {
         "anchor": "x",
         "domain": [
          0,
          1
         ],
         "title": {
          "text": "Crime count"
         }
        }
       }
      }
     },
     "metadata": {},
     "output_type": "display_data"
    }
   ],
   "source": [
    "import plotly.express as px\n",
    "\n",
    "fig = px.bar(x=x,\n",
    "             y=y, \n",
    "             orientation='v', \n",
    "             title='Bar plot of DRUG/NARCOTIC related crimes per year',\n",
    "             labels={'y': 'Crime count', 'x': 'Year'},\n",
    "             )\n",
    "fig.update_layout(showlegend=False, xaxis = dict(\n",
    "                    tickmode='array', #change 1\n",
    "                    tickvals = x, #change 2\n",
    "                    ticktext = textBased, #change 3\n",
    "                    ),)\n",
    "#fig.update_traces(base=\"markers+lines\", hovertemplate=None)\n",
    "\n",
    "fig.show()\n",
    "fig.update_layout(showlegend=False)\n",
    "fig.write_html(\"intro-bar-chart.html\")"
   ]
  },
  {
   "cell_type": "code",
   "execution_count": 49,
   "id": "4878cba9",
   "metadata": {},
   "outputs": [
    {
     "data": {
      "text/html": [
       "<div>\n",
       "<style scoped>\n",
       "    .dataframe tbody tr th:only-of-type {\n",
       "        vertical-align: middle;\n",
       "    }\n",
       "\n",
       "    .dataframe tbody tr th {\n",
       "        vertical-align: top;\n",
       "    }\n",
       "\n",
       "    .dataframe thead th {\n",
       "        text-align: right;\n",
       "    }\n",
       "</style>\n",
       "<table border=\"1\" class=\"dataframe\">\n",
       "  <thead>\n",
       "    <tr style=\"text-align: right;\">\n",
       "      <th></th>\n",
       "      <th>Category</th>\n",
       "      <th>Descript</th>\n",
       "    </tr>\n",
       "    <tr>\n",
       "      <th>Date</th>\n",
       "      <th></th>\n",
       "      <th></th>\n",
       "    </tr>\n",
       "  </thead>\n",
       "  <tbody>\n",
       "    <tr>\n",
       "      <th>2003-06-12</th>\n",
       "      <td>DRUG/NARCOTIC</td>\n",
       "      <td>POSSESSION OF HEROIN</td>\n",
       "    </tr>\n",
       "    <tr>\n",
       "      <th>2006-01-03</th>\n",
       "      <td>DRUG/NARCOTIC</td>\n",
       "      <td>POSSESSION OF METH-AMPHETAMINE</td>\n",
       "    </tr>\n",
       "    <tr>\n",
       "      <th>2003-12-18</th>\n",
       "      <td>DRUG/NARCOTIC</td>\n",
       "      <td>POSSESSION OF NARCOTICS PARAPHERNALIA</td>\n",
       "    </tr>\n",
       "    <tr>\n",
       "      <th>2003-05-21</th>\n",
       "      <td>DRUG/NARCOTIC</td>\n",
       "      <td>POSSESSION OF NARCOTICS PARAPHERNALIA</td>\n",
       "    </tr>\n",
       "    <tr>\n",
       "      <th>2006-01-27</th>\n",
       "      <td>DRUG/NARCOTIC</td>\n",
       "      <td>PLANTING/CULTIVATING MARIJUANA</td>\n",
       "    </tr>\n",
       "    <tr>\n",
       "      <th>...</th>\n",
       "      <td>...</td>\n",
       "      <td>...</td>\n",
       "    </tr>\n",
       "    <tr>\n",
       "      <th>2017-10-17</th>\n",
       "      <td>DRUG/NARCOTIC</td>\n",
       "      <td>LOITERING WHERE NARCOTICS ARE SOLD/USED</td>\n",
       "    </tr>\n",
       "    <tr>\n",
       "      <th>2017-12-05</th>\n",
       "      <td>DRUG/NARCOTIC</td>\n",
       "      <td>POSSESSION OF MARIJUANA FOR SALES</td>\n",
       "    </tr>\n",
       "    <tr>\n",
       "      <th>2017-10-26</th>\n",
       "      <td>DRUG/NARCOTIC</td>\n",
       "      <td>POSSESSION OF NARCOTICS PARAPHERNALIA</td>\n",
       "    </tr>\n",
       "    <tr>\n",
       "      <th>2016-04-01</th>\n",
       "      <td>DRUG/NARCOTIC</td>\n",
       "      <td>POSSESSION OF NARCOTICS PARAPHERNALIA</td>\n",
       "    </tr>\n",
       "    <tr>\n",
       "      <th>2017-06-22</th>\n",
       "      <td>DRUG/NARCOTIC</td>\n",
       "      <td>POSSESSION OF NARCOTICS PARAPHERNALIA</td>\n",
       "    </tr>\n",
       "  </tbody>\n",
       "</table>\n",
       "<p>117821 rows × 2 columns</p>\n",
       "</div>"
      ],
      "text/plain": [
       "                 Category                                 Descript\n",
       "Date                                                              \n",
       "2003-06-12  DRUG/NARCOTIC                     POSSESSION OF HEROIN\n",
       "2006-01-03  DRUG/NARCOTIC           POSSESSION OF METH-AMPHETAMINE\n",
       "2003-12-18  DRUG/NARCOTIC    POSSESSION OF NARCOTICS PARAPHERNALIA\n",
       "2003-05-21  DRUG/NARCOTIC    POSSESSION OF NARCOTICS PARAPHERNALIA\n",
       "2006-01-27  DRUG/NARCOTIC           PLANTING/CULTIVATING MARIJUANA\n",
       "...                   ...                                      ...\n",
       "2017-10-17  DRUG/NARCOTIC  LOITERING WHERE NARCOTICS ARE SOLD/USED\n",
       "2017-12-05  DRUG/NARCOTIC        POSSESSION OF MARIJUANA FOR SALES\n",
       "2017-10-26  DRUG/NARCOTIC    POSSESSION OF NARCOTICS PARAPHERNALIA\n",
       "2016-04-01  DRUG/NARCOTIC    POSSESSION OF NARCOTICS PARAPHERNALIA\n",
       "2017-06-22  DRUG/NARCOTIC    POSSESSION OF NARCOTICS PARAPHERNALIA\n",
       "\n",
       "[117821 rows x 2 columns]"
      ]
     },
     "execution_count": 49,
     "metadata": {},
     "output_type": "execute_result"
    }
   ],
   "source": [
    "descriptions = data_narco.loc[:, ['Category', 'Descript', 'Date']]\n",
    "#descriptions.groupby(pd.Grouper(key='Date', axis=0, freq='Y'))['Descript']\n",
    "descriptions.set_index('Date', inplace=True)\n",
    "descriptions"
   ]
  }
 ],
 "metadata": {
  "kernelspec": {
   "display_name": "Python 3 (ipykernel)",
   "language": "python",
   "name": "python3"
  },
  "language_info": {
   "codemirror_mode": {
    "name": "ipython",
    "version": 3
   },
   "file_extension": ".py",
   "mimetype": "text/x-python",
   "name": "python",
   "nbconvert_exporter": "python",
   "pygments_lexer": "ipython3",
   "version": "3.9.7"
  }
 },
 "nbformat": 4,
 "nbformat_minor": 5
}
